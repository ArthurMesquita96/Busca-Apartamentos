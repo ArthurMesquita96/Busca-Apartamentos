{
 "cells": [
  {
   "cell_type": "markdown",
   "metadata": {},
   "source": [
    "# Imports"
   ]
  },
  {
   "cell_type": "code",
   "execution_count": 1,
   "metadata": {},
   "outputs": [
    {
     "name": "stderr",
     "output_type": "stream",
     "text": [
      "/tmp/ipykernel_1514370/4223526492.py:2: DeprecationWarning: \n",
      "Pyarrow will become a required dependency of pandas in the next major release of pandas (pandas 3.0),\n",
      "(to allow more performant data types, such as the Arrow string type, and better interoperability with other libraries)\n",
      "but was not found to be installed on your system.\n",
      "If this would cause problems for you,\n",
      "please provide us feedback at https://github.com/pandas-dev/pandas/issues/54466\n",
      "        \n",
      "  import pandas as pd\n"
     ]
    }
   ],
   "source": [
    "from google.cloud import storage\n",
    "import pandas as pd\n",
    "import numpy as np\n",
    "import re"
   ]
  },
  {
   "cell_type": "markdown",
   "metadata": {},
   "source": [
    "# Carregando Dados"
   ]
  },
  {
   "cell_type": "code",
   "execution_count": 2,
   "metadata": {},
   "outputs": [],
   "source": [
    "BUCKET_NAME = 'busca-apartamentos-bucket'\n",
    "FILE = '2024-02-14 - apartamentos - apolar.csv'\n",
    "TEMP_FILE = 'local.csv'\n",
    "\n",
    "storage_client = storage.Client()\n",
    "bucket = storage_client.get_bucket(BUCKET_NAME)\n",
    "\n",
    "blop = bucket.blob(blob_name= FILE).download_as_string()\n",
    "with open(TEMP_FILE, 'wb') as f:\n",
    "    f.write(blop)\n",
    "\n",
    "df = pd.read_csv('local.csv')"
   ]
  },
  {
   "cell_type": "markdown",
   "metadata": {},
   "source": [
    "# Tratando Dados"
   ]
  },
  {
   "cell_type": "markdown",
   "metadata": {},
   "source": [
    "## Limpeza"
   ]
  },
  {
   "cell_type": "code",
   "execution_count": 3,
   "metadata": {},
   "outputs": [],
   "source": [
    "df['titulo'] = df['titulo'].str.strip()\n",
    "df['endereco'] = df['endereco'].str.strip()\n",
    "df['descricao'] = df['descricao'].str.strip().str.replace('  ', '').str.replace('\\n',' ')"
   ]
  },
  {
   "cell_type": "markdown",
   "metadata": {},
   "source": [
    "# Criação de Features"
   ]
  },
  {
   "cell_type": "code",
   "execution_count": 4,
   "metadata": {},
   "outputs": [],
   "source": [
    "def busca_substring(substring, string_list):\n",
    "    result = np.nan\n",
    "    for s in string_list:\n",
    "        if substring in s:\n",
    "            try:\n",
    "                result = re.findall(r'\\s(\\d{1,3}(?:[.,]\\d{3})*(?:[.,]\\d{2})?)', s)[0]\n",
    "            except:\n",
    "                result = s\n",
    "            break\n",
    "            \n",
    "    return result\n",
    "\n",
    "def separa_valores_imovel(string):\n",
    "\n",
    "    # Padrao regex para encontrar nome e valor monetário\n",
    "    padrao = r'(\\w+)\\sR\\$\\s(\\d{1,3}(?:\\.\\d{3})*(?:,\\d{2})?)'\n",
    "\n",
    "    # Encontrar todas as correspondências na string\n",
    "    correspondencias = re.findall(padrao, string)\n",
    "\n",
    "    # Imprimir os resultados\n",
    "    list_values = []\n",
    "    for correspondencia in correspondencias:\n",
    "        nome, valor = correspondencia\n",
    "        list_values.append(f'{nome}: {valor}')\n",
    "    \n",
    "    return list_values"
   ]
  },
  {
   "cell_type": "code",
   "execution_count": 5,
   "metadata": {},
   "outputs": [],
   "source": [
    "# Localidade\n",
    "df['bairro'] = df['endereco'].apply(lambda x: x.split(', ')[2].split(' - ')[0])\n",
    "df['cidade'] = df['endereco'].apply(lambda x: x.split(', ')[2].split(' -')[1])\n",
    "\n",
    "# Atributos do imóvel\n",
    "df['area'] = df['atributos'].apply(lambda x: x if isinstance(x,float) else busca_substring('m²', x.split(', ')))\n",
    "df['banheiros'] = df['atributos'].apply(lambda x: x if isinstance(x,float) else busca_substring('banheiro', x.split(', ')))\n",
    "df['vagas_garagem'] = df['atributos'].apply(lambda x: x if isinstance(x,float) else busca_substring('vagas', x.split(', ')))\n",
    "df['quartos'] = df['atributos'].apply(lambda x: x if isinstance(x,float) else busca_substring('quarto', x.split(', ')))\n",
    "\n",
    "df['area'] = df['area'].apply(lambda x: np.nan if isinstance(x, float) else x.split(' ')[0]).astype('float64')\n",
    "df['banheiros'] = df['banheiros'].apply(lambda x: np.nan if isinstance(x, float) else x.split(' ')[0]).astype('float64')\n",
    "df['vagas_garagem'] = df['vagas_garagem'].apply(lambda x: np.nan if isinstance(x, float) else x.split(' ')[0]).astype('float64')\n",
    "df['quartos'] = df['quartos'].apply(lambda x: np.nan if isinstance(x, float) else x.split(' ')[0]).astype('float64')\n",
    "\n",
    "# Valores\n",
    "df['aluguel'] = df['valores'].apply(lambda x: x if isinstance(x,float) else busca_substring('Aluguel',separa_valores_imovel(x)))\n",
    "df['condominio'] = df['valores'].apply(lambda x: x if isinstance(x,float) else busca_substring('Condomínio',separa_valores_imovel(x)))\n",
    "df['seguro_incendio'] = df['valores'].apply(lambda x: x if isinstance(x,float) else busca_substring('Incêndio',separa_valores_imovel(x)))\n",
    "df['iptu'] = df['valores'].apply(lambda x: x if isinstance(x,float) else busca_substring('IPTU',separa_valores_imovel(x)))\n",
    "\n",
    "df['aluguel'] = df['aluguel'].apply(lambda x: x if isinstance(x,float) else x.replace(',00', '').replace('.','').replace(',','.')).astype('float64')\n",
    "df['condominio'] = df['condominio'].apply(lambda x: x if isinstance(x,float) else x.replace(',00', '').replace('.','').replace(',','.')).astype('float64')\n",
    "df['seguro_incendio'] = df['seguro_incendio'].apply(lambda x: x if isinstance(x,float) else x.replace(',00', '').replace('.','').replace(',','.')).astype('float64')\n",
    "df['iptu'] = df['iptu'].apply(lambda x: x if isinstance(x,float) else x.replace(',00', '').replace('.','').replace(',','.')).astype('float64')\n",
    "\n",
    "# Detalhes do imóvel/condomínio\n",
    "df['mobiliado'] = df['descricao'].apply(lambda x: np.nan if isinstance(x,float) else 'Sim' if 'mobiliado' in x else 'Não')\n",
    "df['piscina'] = df['descricao'].apply(lambda x: np.nan if isinstance(x,float) else 'Sim' if 'piscina' in x else 'Não')\n",
    "df['academia'] = df['descricao'].apply(lambda x: np.nan if isinstance(x,float) else 'Sim' if 'academia' in x else 'Não')\n",
    "df['sacada'] = df['descricao'].apply(lambda x: np.nan if isinstance(x,float) else 'Sim' if 'sacada' in x else 'Não')\n",
    "df['churrasqueira'] = df['descricao'].apply(lambda x: np.nan if isinstance(x,float) else 'Sim' if 'churrasqueira' in x else 'Não')"
   ]
  },
  {
   "cell_type": "code",
   "execution_count": 6,
   "metadata": {},
   "outputs": [
    {
     "data": {
      "text/plain": [
       "site                object\n",
       "data_coleta         object\n",
       "titulo              object\n",
       "link                object\n",
       "endereco            object\n",
       "valores             object\n",
       "atributos           object\n",
       "descricao           object\n",
       "bairro              object\n",
       "cidade              object\n",
       "area               float64\n",
       "banheiros          float64\n",
       "vagas_garagem      float64\n",
       "quartos            float64\n",
       "aluguel            float64\n",
       "condominio         float64\n",
       "seguro_incendio    float64\n",
       "iptu               float64\n",
       "mobiliado           object\n",
       "piscina             object\n",
       "academia            object\n",
       "sacada              object\n",
       "churrasqueira       object\n",
       "dtype: object"
      ]
     },
     "execution_count": 6,
     "metadata": {},
     "output_type": "execute_result"
    }
   ],
   "source": [
    "df.dtypes"
   ]
  },
  {
   "cell_type": "markdown",
   "metadata": {},
   "source": [
    "# Save File"
   ]
  },
  {
   "cell_type": "code",
   "execution_count": 7,
   "metadata": {},
   "outputs": [],
   "source": [
    "columns_selected = [\n",
    " 'site',\n",
    " 'link',\n",
    " 'data_coleta',\n",
    " 'titulo',\n",
    " 'endereco',\n",
    " 'atributos',\n",
    " 'descricao',\n",
    " 'bairro',\n",
    " 'cidade',\n",
    " 'area',\n",
    " 'banheiros',\n",
    " 'vagas_garagem',\n",
    " 'quartos',\n",
    " 'aluguel',\n",
    " 'condominio',\n",
    " 'seguro_incendio',\n",
    " 'iptu',\n",
    " 'mobiliado',\n",
    " 'piscina',\n",
    " 'academia',\n",
    " 'sacada',\n",
    " 'churrasqueira'\n",
    " ]"
   ]
  },
  {
   "cell_type": "code",
   "execution_count": 8,
   "metadata": {},
   "outputs": [
    {
     "data": {
      "text/plain": [
       "Index(['site', 'data_coleta', 'titulo', 'link', 'endereco', 'valores',\n",
       "       'atributos', 'descricao', 'bairro', 'cidade', 'area', 'banheiros',\n",
       "       'vagas_garagem', 'quartos', 'aluguel', 'condominio', 'seguro_incendio',\n",
       "       'iptu', 'mobiliado', 'piscina', 'academia', 'sacada', 'churrasqueira'],\n",
       "      dtype='object')"
      ]
     },
     "execution_count": 8,
     "metadata": {},
     "output_type": "execute_result"
    }
   ],
   "source": [
    "df.columns"
   ]
  },
  {
   "cell_type": "code",
   "execution_count": 9,
   "metadata": {},
   "outputs": [],
   "source": [
    "df[columns_selected].to_excel('../data/data_trusted/anuncios-apolar-trusted.xlsx', index = False)"
   ]
  },
  {
   "cell_type": "code",
   "execution_count": null,
   "metadata": {},
   "outputs": [],
   "source": []
  },
  {
   "cell_type": "code",
   "execution_count": null,
   "metadata": {},
   "outputs": [],
   "source": []
  }
 ],
 "metadata": {
  "kernelspec": {
   "display_name": "busca-apartamentos-env",
   "language": "python",
   "name": "python3"
  },
  "language_info": {
   "codemirror_mode": {
    "name": "ipython",
    "version": 3
   },
   "file_extension": ".py",
   "mimetype": "text/x-python",
   "name": "python",
   "nbconvert_exporter": "python",
   "pygments_lexer": "ipython3",
   "version": "3.11.7"
  }
 },
 "nbformat": 4,
 "nbformat_minor": 2
}

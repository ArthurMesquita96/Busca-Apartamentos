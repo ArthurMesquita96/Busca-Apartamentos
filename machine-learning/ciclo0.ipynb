{
 "cells": [
  {
   "cell_type": "code",
   "execution_count": 29,
   "metadata": {},
   "outputs": [],
   "source": [
    "import pandas as pd\n",
    "from google.cloud import storage\n",
    "import os\n",
    "from ydata_profiling import ProfileReport\n",
    "from unidecode import unidecode"
   ]
  },
  {
   "cell_type": "code",
   "execution_count": 2,
   "metadata": {},
   "outputs": [],
   "source": [
    "BUCKET_NAME = 'busca-apartamentos-trusted'\n",
    "TEMP_FILE = 'tmp/local.csv'\n",
    "\n",
    "storage_client = storage.Client()\n",
    "bucket = storage_client.get_bucket(BUCKET_NAME)\n",
    "\n",
    "files = [i.name for i in bucket.list_blobs()]\n",
    "\n",
    "for file in files:\n",
    "    blop = bucket.blob(blob_name= file).download_as_string()\n",
    "    with open(f'tmp/{file}', 'wb') as f:\n",
    "        f.write(blop)"
   ]
  },
  {
   "cell_type": "code",
   "execution_count": 3,
   "metadata": {},
   "outputs": [],
   "source": [
    "df_full = pd.DataFrame()\n",
    "for _, _, files_names in os.walk('tmp'):\n",
    "    for file_name in files_names:\n",
    "        df_aux = pd.read_csv('tmp/' + file_name)\n",
    "        df_full = pd.concat([df_full, df_aux], axis = 0, ignore_index=True)"
   ]
  },
  {
   "cell_type": "code",
   "execution_count": 30,
   "metadata": {},
   "outputs": [],
   "source": [
    "BUCKET_NAME = 'busca-apartamentos-trusted'\n",
    "FILE = '2024-02-19 - apartamentos - cilar.csv'\n",
    "TEMP_FILE = 'tmp/local.csv'\n",
    "\n",
    "storage_client = storage.Client()\n",
    "bucket = storage_client.get_bucket(BUCKET_NAME)\n",
    "\n",
    "files = [i.name for i in bucket.list_blobs()]\n",
    "\n",
    "for file in files:\n",
    "    blop = bucket.blob(blob_name= file).download_as_string()\n",
    "    with open(f'tmp/{file}', 'wb') as f:\n",
    "        f.write(blop)"
   ]
  },
  {
   "cell_type": "code",
   "execution_count": 48,
   "metadata": {},
   "outputs": [],
   "source": [
    "df = pd.read_csv('tmp/2024-02-19 - apartamentos - apolar.csv')"
   ]
  },
  {
   "cell_type": "code",
   "execution_count": 51,
   "metadata": {},
   "outputs": [],
   "source": [
    "## Preenchendo valores nulos\n",
    "df['cidade'] = df['cidade'].fillna('Curitiba')\n",
    "df[['aluguel','condominio','seguro_incendio','iptu']] = df[['aluguel','condominio','seguro_incendio','iptu']].fillna(0)\n",
    "df[['area','quartos','suites','banheiros','vagas_garagem']] = df[['area','quartos','suites','banheiros','vagas_garagem']].fillna(0)\n",
    "\n",
    "## Transformando dtypes\n",
    "df['data_coleta'] = pd.to_datetime(df['data_coleta'])\n",
    "df['cidade'] = df['cidade'].apply(lambda x: x if isinstance(x,float) else unidecode(x.capitalize())).astype('category')\n",
    "df['bairro'] = df['bairro'].apply(lambda x: x if isinstance(x,float) else unidecode(x.capitalize())).astype('category')\n",
    "df[['area','quartos','suites','banheiros','vagas_garagem']] = df[['area','quartos','suites','banheiros','vagas_garagem']].astype('int64')"
   ]
  },
  {
   "cell_type": "code",
   "execution_count": 52,
   "metadata": {},
   "outputs": [
    {
     "data": {
      "text/plain": [
       "site                       object\n",
       "titulo                     object\n",
       "link                       object\n",
       "data_coleta        datetime64[ns]\n",
       "endereco                   object\n",
       "atributos                  object\n",
       "descricao                  object\n",
       "bairro                   category\n",
       "cidade                   category\n",
       "aluguel                   float64\n",
       "condominio                float64\n",
       "seguro_incendio           float64\n",
       "iptu                      float64\n",
       "area                        int64\n",
       "quartos                     int64\n",
       "suites                      int64\n",
       "banheiros                   int64\n",
       "vagas_garagem               int64\n",
       "mobiliado                  object\n",
       "piscina                    object\n",
       "academia                   object\n",
       "sacada                     object\n",
       "churrasqueira              object\n",
       "salao_de_festas            object\n",
       "dtype: object"
      ]
     },
     "execution_count": 52,
     "metadata": {},
     "output_type": "execute_result"
    }
   ],
   "source": [
    "df.dtypes"
   ]
  },
  {
   "cell_type": "code",
   "execution_count": 53,
   "metadata": {},
   "outputs": [],
   "source": [
    "df = pd.read_csv('tmp/2024-02-19 - apartamentos - cilar.csv')"
   ]
  },
  {
   "cell_type": "code",
   "execution_count": 54,
   "metadata": {},
   "outputs": [],
   "source": [
    "## Preenchendo valores nulos\n",
    "df[['aluguel','condominio','seguro_incendio','iptu']] = df[['aluguel','condominio','seguro_incendio','iptu']].fillna(0)\n",
    "df['cidade'] = df['cidade'].fillna('Curitiba')\n",
    "df[['area','quartos','suites','banheiros','vagas_garagem']] = df[['area','quartos','suites','banheiros','vagas_garagem']].fillna(0)\n",
    "\n",
    "## Transformando dtypes\n",
    "df['data_coleta'] = pd.to_datetime(df['data_coleta'])\n",
    "df['cidade'] = df['cidade'].apply(lambda x: x if isinstance(x,float) else unidecode(x.capitalize())).astype('category')\n",
    "df['bairro'] = df['bairro'].apply(lambda x: x if isinstance(x,float) else unidecode(x.capitalize())).astype('category')\n",
    "df[['aluguel','condominio','seguro_incendio','iptu']] = df[['aluguel','condominio','seguro_incendio','iptu']].astype('float64')"
   ]
  },
  {
   "cell_type": "code",
   "execution_count": 55,
   "metadata": {},
   "outputs": [
    {
     "data": {
      "text/plain": [
       "site                              object\n",
       "titulo                            object\n",
       "link                              object\n",
       "data_coleta               datetime64[ns]\n",
       "endereco                          object\n",
       "catacteristicas_imovel            object\n",
       "detalhes_condominio               object\n",
       "bairro                          category\n",
       "cidade                          category\n",
       "aluguel                          float64\n",
       "condominio                       float64\n",
       "seguro_incendio                  float64\n",
       "iptu                             float64\n",
       "area                               int64\n",
       "quartos                            int64\n",
       "suites                             int64\n",
       "banheiros                          int64\n",
       "vagas_garagem                      int64\n",
       "mobiliado                         object\n",
       "piscina                           object\n",
       "academia                          object\n",
       "sacada                            object\n",
       "churrasqueira                     object\n",
       "salao_de_festas                   object\n",
       "dtype: object"
      ]
     },
     "execution_count": 55,
     "metadata": {},
     "output_type": "execute_result"
    }
   ],
   "source": [
    "df.dtypes"
   ]
  },
  {
   "cell_type": "code",
   "execution_count": 44,
   "metadata": {},
   "outputs": [
    {
     "data": {
      "text/plain": [
       "site                       0\n",
       "titulo                     0\n",
       "link                       0\n",
       "data_coleta                0\n",
       "endereco                   0\n",
       "catacteristicas_imovel     0\n",
       "detalhes_condominio       54\n",
       "bairro                     2\n",
       "cidade                     0\n",
       "aluguel                    0\n",
       "condominio                25\n",
       "seguro_incendio            0\n",
       "iptu                      86\n",
       "area                       0\n",
       "quartos                    0\n",
       "suites                     0\n",
       "banheiros                  0\n",
       "vagas_garagem              0\n",
       "mobiliado                  0\n",
       "piscina                    0\n",
       "academia                   0\n",
       "sacada                     0\n",
       "churrasqueira              0\n",
       "salao_de_festas            0\n",
       "dtype: int64"
      ]
     },
     "execution_count": 44,
     "metadata": {},
     "output_type": "execute_result"
    }
   ],
   "source": [
    "df.isna().sum()"
   ]
  },
  {
   "cell_type": "code",
   "execution_count": null,
   "metadata": {},
   "outputs": [],
   "source": []
  }
 ],
 "metadata": {
  "kernelspec": {
   "display_name": "busca-apartamentos-env",
   "language": "python",
   "name": "python3"
  },
  "language_info": {
   "codemirror_mode": {
    "name": "ipython",
    "version": 3
   },
   "file_extension": ".py",
   "mimetype": "text/x-python",
   "name": "python",
   "nbconvert_exporter": "python",
   "pygments_lexer": "ipython3",
   "version": "3.11.7"
  }
 },
 "nbformat": 4,
 "nbformat_minor": 2
}

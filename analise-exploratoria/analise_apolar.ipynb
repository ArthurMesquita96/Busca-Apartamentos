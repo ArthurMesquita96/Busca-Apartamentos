{
 "cells": [
  {
   "cell_type": "markdown",
   "metadata": {},
   "source": [
    "# Imports"
   ]
  },
  {
   "cell_type": "code",
   "execution_count": 6,
   "metadata": {},
   "outputs": [],
   "source": [
    "import pandas as pd"
   ]
  },
  {
   "cell_type": "markdown",
   "metadata": {},
   "source": [
    "# Carregando Dados"
   ]
  },
  {
   "cell_type": "code",
   "execution_count": 9,
   "metadata": {},
   "outputs": [],
   "source": [
    "df = pd.read_excel('../data/data_trusted/anuncios-apolar-trusted.xlsx')"
   ]
  },
  {
   "cell_type": "code",
   "execution_count": 10,
   "metadata": {},
   "outputs": [
    {
     "data": {
      "text/plain": [
       "site                object\n",
       "data_coleta         object\n",
       "titulo              object\n",
       "endereco            object\n",
       "atributos           object\n",
       "descricao           object\n",
       "bairro              object\n",
       "cidade              object\n",
       "area               float64\n",
       "banheiros          float64\n",
       "vagas_garagem      float64\n",
       "quartos            float64\n",
       "aluguel            float64\n",
       "condominio         float64\n",
       "seguro_incendio    float64\n",
       "iptu               float64\n",
       "mobiliado           object\n",
       "piscina             object\n",
       "academia            object\n",
       "sacada              object\n",
       "churrasqueira       object\n",
       "dtype: object"
      ]
     },
     "execution_count": 10,
     "metadata": {},
     "output_type": "execute_result"
    }
   ],
   "source": [
    "df.dtypes"
   ]
  },
  {
   "cell_type": "code",
   "execution_count": 16,
   "metadata": {},
   "outputs": [],
   "source": [
    "aux = df.loc[\n",
    "    (df['aluguel'] + df['condominio'] + df['iptu'] + df['seguro_incendio'] < 1700)\n",
    "    # (df['area'] > 30)\n",
    "]"
   ]
  },
  {
   "cell_type": "code",
   "execution_count": 18,
   "metadata": {},
   "outputs": [],
   "source": [
    "aux.to_excel('../data/data_trusted/filtro_imoveis_apolar.xlsx', index = False)"
   ]
  },
  {
   "cell_type": "code",
   "execution_count": null,
   "metadata": {},
   "outputs": [],
   "source": []
  }
 ],
 "metadata": {
  "kernelspec": {
   "display_name": "busca-apartamentos-env",
   "language": "python",
   "name": "python3"
  },
  "language_info": {
   "codemirror_mode": {
    "name": "ipython",
    "version": 3
   },
   "file_extension": ".py",
   "mimetype": "text/x-python",
   "name": "python",
   "nbconvert_exporter": "python",
   "pygments_lexer": "ipython3",
   "version": "3.11.7"
  }
 },
 "nbformat": 4,
 "nbformat_minor": 2
}

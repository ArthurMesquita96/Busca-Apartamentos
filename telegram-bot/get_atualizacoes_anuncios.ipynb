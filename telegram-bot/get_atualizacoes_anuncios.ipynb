{
 "cells": [
  {
   "cell_type": "code",
   "execution_count": 1,
   "metadata": {},
   "outputs": [],
   "source": [
    "import pandas as pd\n",
    "from google.cloud import storage\n",
    "import os\n",
    "from unidecode import unidecode\n",
    "from datetime import datetime, timedelta\n",
    "import requests"
   ]
  },
  {
   "cell_type": "code",
   "execution_count": 4,
   "metadata": {},
   "outputs": [],
   "source": [
    "def get_bucket_files():\n",
    "    BUCKET_NAME = 'busca-apartamentos-trusted'\n",
    "\n",
    "    storage_client = storage.Client()\n",
    "    bucket = storage_client.get_bucket(BUCKET_NAME)\n",
    "\n",
    "    # lista objetos no bucket\n",
    "    files = [i.name for i in bucket.list_blobs()]\n",
    "\n",
    "    # Criando DataFrame\n",
    "    files = pd.DataFrame(files, columns=['name'])\n",
    "\n",
    "    # criando coluna de data\n",
    "    files['date'] = pd.to_datetime(files['name'].apply(lambda f: f.split(' - ')[0]))\n",
    "\n",
    "    return files\n",
    "\n",
    "def get_anuncios(df_files, data_diff):\n",
    "\n",
    "    dates = df_files['date'].sort_values(ascending=False).drop_duplicates().reset_index(drop=True)[:data_diff].tolist()\n",
    "\n",
    "    df_full = pd.DataFrame()\n",
    "\n",
    "    for file_name in df_files.loc[df_files['date'].isin(dates),'name']:\n",
    "        try:\n",
    "            df_aux = pd.read_csv(f'gs://busca-apartamentos-trusted/{file_name}')\n",
    "            df_full = pd.concat([df_full, df_aux], axis = 0)\n",
    "        except:\n",
    "            pass\n",
    "\n",
    "    return df_full\n",
    "\n",
    "def build_portfolio(df_full):\n",
    "    # removendo imóveis com falha na busca\n",
    "    df_full = df_full.loc[~df_full['titulo'].isna()]\n",
    "\n",
    "    # calculando data máxima de mínima de cada anuncio\n",
    "    df_grouped = df_full[['endereco','data_coleta']].groupby('endereco').agg(data_entrada=('data_coleta','min'), data_saida=('data_coleta','max')).reset_index()\n",
    "    portfolio = pd.merge(df_full, df_grouped, on = 'endereco', how='left').sort_values('data_coleta', ascending=False).drop_duplicates('endereco', keep='first')\n",
    "\n",
    "    # criando coluna de status anuncio\n",
    "    portfolio['status'] = portfolio['data_saida'].apply(lambda d: 'ativo' if pd.to_datetime(d) == max(pd.to_datetime(portfolio['data_saida'])) else 'inativo')\n",
    "\n",
    "    # criando coluna de entrada do anuncio em dias\n",
    "    portfolio['entrada_em_dias'] = portfolio[['data_entrada','data_saida']].apply(lambda d: (pd.to_datetime(d['data_saida']) - pd.to_datetime(d['data_entrada'])).days, axis=1)\n",
    "\n",
    "    return portfolio\n",
    "\n",
    "def build_apartamentos_entrantes(portfolio):\n",
    "    apartamentos_entrantes = portfolio.loc[\n",
    "    (portfolio['status'] == 'ativo') & \n",
    "    (portfolio['entrada_em_dias'] == 0)\n",
    "    ].reset_index().sort_values('aluguel', ascending=True)\n",
    "\n",
    "    apartamentos_entrantes.loc[:,'texto'] = apartamentos_entrantes[['bairro','endereco','link','area','aluguel', 'condominio']].apply(lambda x:\n",
    "    f'''\n",
    "Bairro: {x['bairro']}\n",
    "Endereco: {x['endereco']}\n",
    "Maps: https://www.google.com.br/maps/place/{x['endereco'].replace(' -', ',').replace(' ','-')}\n",
    "Area: {x['area']}\n",
    "Valor aproximado: {x['aluguel'] + x['condominio']}\n",
    "Link: {x['link']}\n",
    "    ''', \n",
    "    axis=1)\n",
    "\n",
    "    return apartamentos_entrantes\n",
    "\n",
    "def send_message_telegram(apartamentos_entrantes):\n",
    "    TOKEN = '6807526969:AAHh2qyButkfg8ofvYWRHa0XUJXQVP3a4yM'\n",
    "    chat_id = 620603429\n",
    "    text = f\"Relatório de Apartamentos Novos de {datetime.today().strftime('%Y-%m-%d')}\"\n",
    "\n",
    "    url = f'https://api.telegram.org/bot{TOKEN}/sendMessage?chat_id={chat_id}&text={text}'\n",
    "    response = requests.post(url)\n",
    "\n",
    "    for infos in apartamentos_entrantes['texto'].tolist():\n",
    "        url = f'https://api.telegram.org/bot{TOKEN}/sendMessage?chat_id={chat_id}&text={infos}'\n",
    "        response = requests.post(url)"
   ]
  },
  {
   "cell_type": "code",
   "execution_count": 5,
   "metadata": {},
   "outputs": [],
   "source": [
    "data_diff = 2\n",
    "\n",
    "df_files = get_bucket_files()\n",
    "df_full = get_anuncios(df_files, data_diff)\n",
    "portfolio = build_portfolio(df_full)\n",
    "ap_entrantes = build_apartamentos_entrantes(portfolio)\n",
    "send_message_telegram(ap_entrantes)"
   ]
  },
  {
   "cell_type": "code",
   "execution_count": null,
   "metadata": {},
   "outputs": [],
   "source": [
    "\n",
    "apartamentos_entrantes = portfolio.loc[(portfolio['status'] == 'ativo') & (portfolio['entrada_em_dias'] == 0)].reset_index().sort_values('aluguel', ascending=True)\n",
    "apartamentos_entrantes.loc[:,'texto'] = apartamentos_entrantes[['bairro','endereco','link','area','aluguel', 'condominio']].apply(lambda x:\n",
    "    f\"Bairro: {x['bairro']}\\nEndereco: {x['endereco']} \\nMaps: https://www.google.com.br/maps/place/{x['endereco'].replace(' -', ',').replace(' ','-')} \\nArea: {x['area']}\\nValor aproximado: {x['aluguel'] + x['condominio']}\\nLink: {x['link']}\\n\", axis=1\n",
    "                                                                                          )\n",
    "import requests\n",
    "TOKEN = '6807526969:AAHh2qyButkfg8ofvYWRHa0XUJXQVP3a4yM'\n",
    "chat_id = 620603429\n",
    "text = f\"Relatório de Apartamentos Novos de {datetime.today().strftime('%Y-%m-%d')}\"\n",
    "url = f'https://api.telegram.org/bot{TOKEN}/sendMessage?chat_id={chat_id}&text={text}'\n",
    "response = requests.post(url)\n",
    "\n",
    "for ap in apartamentos_entrantes['texto'].tolist():\n",
    "    text = ap\n",
    "    url = f'https://api.telegram.org/bot{TOKEN}/sendMessage?chat_id={chat_id}&text={text}'\n",
    "    response = requests.post(url)\n"
   ]
  },
  {
   "cell_type": "code",
   "execution_count": null,
   "metadata": {},
   "outputs": [],
   "source": [
    "texto = 'Bairro Sao braz\\nEndereco Ângelo Massignan, 820 - São Braz - Curitiba\\nArea de 83.0\\n\\nValor aproximado de 2244.0\\n\\n link: https://cilar.com.br/alugar/apartamento-no-3-andar-com-2-quartos-sao-braz-curitiba/id/64759501/code/02181.001\\n'\n",
    "url = f'https://api.telegram.org/bot{TOKEN}/sendMessage?chat_id={chat_id}&text={texto}'\n",
    "response = requests.post(url)"
   ]
  },
  {
   "cell_type": "code",
   "execution_count": null,
   "metadata": {},
   "outputs": [],
   "source": [
    "from urllib.parse import urlparse\n",
    "x"
   ]
  },
  {
   "cell_type": "code",
   "execution_count": null,
   "metadata": {},
   "outputs": [],
   "source": []
  }
 ],
 "metadata": {
  "kernelspec": {
   "display_name": "busca-apartamentos-env",
   "language": "python",
   "name": "python3"
  },
  "language_info": {
   "codemirror_mode": {
    "name": "ipython",
    "version": 3
   },
   "file_extension": ".py",
   "mimetype": "text/x-python",
   "name": "python",
   "nbconvert_exporter": "python",
   "pygments_lexer": "ipython3",
   "version": "3.11.7"
  }
 },
 "nbformat": 4,
 "nbformat_minor": 2
}
